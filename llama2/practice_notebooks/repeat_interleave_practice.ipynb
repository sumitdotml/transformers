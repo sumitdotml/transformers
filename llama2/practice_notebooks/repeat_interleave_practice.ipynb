{
 "cells": [
  {
   "cell_type": "code",
   "execution_count": 1,
   "metadata": {},
   "outputs": [],
   "source": [
    "import torch"
   ]
  },
  {
   "cell_type": "code",
   "execution_count": 8,
   "metadata": {},
   "outputs": [
    {
     "data": {
      "text/plain": [
       "(torch.Size([1, 8, 4, 64]),\n",
       " torch.Size([1, 2, 4, 64]),\n",
       " torch.Size([1, 2, 4, 64]))"
      ]
     },
     "execution_count": 8,
     "metadata": {},
     "output_type": "execute_result"
    }
   ],
   "source": [
    "torch.manual_seed(11)\n",
    "\n",
    "batch_size = 1\n",
    "num_kv_heads = 2\n",
    "num_heads = 8\n",
    "seq_len_total = 4\n",
    "head_dim = 64\n",
    "num_query_groups = num_heads // num_kv_heads # 4\n",
    "\n",
    "q = torch.randn(batch_size, num_heads, seq_len_total, head_dim)\n",
    "\n",
    "k = torch.randn(batch_size, num_kv_heads, seq_len_total, head_dim)\n",
    "v = torch.randn(batch_size, num_kv_heads, seq_len_total, head_dim)\n",
    "\n",
    "q.shape, k.shape, v.shape"
   ]
  },
  {
   "cell_type": "code",
   "execution_count": 12,
   "metadata": {},
   "outputs": [
    {
     "data": {
      "text/plain": [
       "torch.Size([1, 8, 4, 64])"
      ]
     },
     "execution_count": 12,
     "metadata": {},
     "output_type": "execute_result"
    }
   ],
   "source": [
    "k_repeated = k.repeat_interleave(num_query_groups, dim=1) # i.e., repeat each num_kv_heads num_query_groups (4) times, so 2 heads 4 times each making 8 heads\n",
    "k_repeated.shape"
   ]
  }
 ],
 "metadata": {
  "kernelspec": {
   "display_name": ".venv",
   "language": "python",
   "name": "python3"
  },
  "language_info": {
   "codemirror_mode": {
    "name": "ipython",
    "version": 3
   },
   "file_extension": ".py",
   "mimetype": "text/x-python",
   "name": "python",
   "nbconvert_exporter": "python",
   "pygments_lexer": "ipython3",
   "version": "3.13.1"
  }
 },
 "nbformat": 4,
 "nbformat_minor": 2
}
