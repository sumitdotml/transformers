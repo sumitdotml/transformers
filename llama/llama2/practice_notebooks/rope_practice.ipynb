{
 "cells": [
  {
   "cell_type": "code",
   "execution_count": 1,
   "metadata": {},
   "outputs": [],
   "source": [
    "import torch\n",
    "from model import *\n",
    "from config import CONFIG"
   ]
  },
  {
   "cell_type": "code",
   "execution_count": 2,
   "metadata": {},
   "outputs": [
    {
     "data": {
      "text/plain": [
       "(torch.Size([2, 10, 4096]),\n",
       " tensor([[[-1.5256, -0.7502, -0.6540,  ..., -0.7497, -1.0320,  1.8165],\n",
       "          [-1.9275, -0.2269, -0.0176,  ..., -0.8383,  1.0039,  0.7873],\n",
       "          [ 0.2396, -1.8256,  0.2578,  ...,  0.6411, -0.0484,  1.9402],\n",
       "          ...,\n",
       "          [-1.4680,  1.7244, -0.4854,  ..., -0.4366,  0.2246,  0.5743],\n",
       "          [ 1.1860,  0.1205, -0.1143,  ...,  1.4923, -0.1333,  1.1166],\n",
       "          [-0.4407,  0.4571, -0.2339,  ..., -0.1619, -0.4180, -0.0945]],\n",
       " \n",
       "         [[-0.1075,  0.4339,  0.2954,  ...,  0.6600, -1.4676, -0.3592],\n",
       "          [-0.1451,  0.1817,  1.6596,  ..., -1.0174, -0.7051,  0.8323],\n",
       "          [ 0.5903,  0.3059,  0.2110,  ..., -0.1074,  2.2933,  0.8184],\n",
       "          ...,\n",
       "          [-1.0786, -1.2929,  0.1236,  ...,  1.2307, -1.1673,  1.2913],\n",
       "          [-0.8654,  0.4805, -1.7892,  ...,  1.3077,  0.7156,  0.7854],\n",
       "          [ 0.4602,  0.8971, -1.4722,  ..., -0.9722,  1.4313,  0.3756]]]))"
      ]
     },
     "execution_count": 2,
     "metadata": {},
     "output_type": "execute_result"
    }
   ],
   "source": [
    "torch.manual_seed(1)\n",
    "\n",
    "input_x = torch.randn(2, 10, 4096) # batch, Seq_Len, d_model\n",
    "input_x.shape, input_x"
   ]
  },
  {
   "cell_type": "code",
   "execution_count": 3,
   "metadata": {},
   "outputs": [
    {
     "name": "stdout",
     "output_type": "stream",
     "text": [
      "Initialized RoPE with d_model=4096, max_seq_len=2048\n",
      "Cache shape: cos=torch.Size([2048, 2048]), sin=torch.Size([2048, 2048])\n"
     ]
    }
   ],
   "source": [
    "rope = RoPE(d_model=CONFIG[\"hidden_size\"], max_seq_len=CONFIG[\"max_position_embeddings\"], base=CONFIG[\"rope_theta\"])\n",
    "\n",
    "print(f\"Initialized RoPE with d_model={rope.d_model}, max_seq_len={rope.max_seq_len}\")\n",
    "print(f\"Cache shape: cos={rope.cos_cached.shape}, sin={rope.sin_cached.shape}\")\n",
    "    "
   ]
  },
  {
   "cell_type": "code",
   "execution_count": 4,
   "metadata": {},
   "outputs": [
    {
     "data": {
      "text/plain": [
       "tensor([[[-1.5256, -0.7502, -0.6540,  ..., -0.7497, -1.0320,  1.8165],\n",
       "         [-0.8505, -1.7446,  2.1387,  ..., -0.8382,  1.0039,  0.7874],\n",
       "         [ 1.5603,  0.9776,  0.2509,  ...,  0.6411, -0.0488,  1.9402],\n",
       "         ...,\n",
       "         [-2.2397,  0.3356, -1.6162,  ..., -0.4369,  0.2242,  0.5745],\n",
       "         [-0.2918,  1.1559, -1.2949,  ...,  1.4945, -0.1342,  1.1165],\n",
       "         [ 0.2132, -0.5981,  0.2863,  ..., -0.1594, -0.4180, -0.0949]],\n",
       "\n",
       "        [[-0.1075,  0.4339,  0.2954,  ...,  0.6600, -1.4676, -0.3592],\n",
       "         [-0.2313, -0.0239,  1.3076,  ..., -1.0173, -0.7052,  0.8322],\n",
       "         [-0.5238,  0.4094, -0.7725,  ..., -0.1077,  2.2932,  0.8189],\n",
       "         ...,\n",
       "         [ 0.0363, -1.6833,  1.0103,  ...,  1.2306, -1.1682,  1.2905],\n",
       "         [-0.3495, -0.9261,  1.1718,  ...,  1.3068,  0.7150,  0.7860],\n",
       "         [-0.7890, -0.6277,  1.2218,  ..., -0.9733,  1.4309,  0.3769]]])"
      ]
     },
     "execution_count": 4,
     "metadata": {},
     "output_type": "execute_result"
    }
   ],
   "source": [
    "input_rope = rope(input_x)\n",
    "input_rope"
   ]
  },
  {
   "cell_type": "code",
   "execution_count": 5,
   "metadata": {},
   "outputs": [
    {
     "data": {
      "text/plain": [
       "(torch.Size([2, 10, 4096]),\n",
       " tensor([[[ 0.0000e+00,  0.0000e+00,  0.0000e+00,  ...,  0.0000e+00,\n",
       "            0.0000e+00,  0.0000e+00],\n",
       "          [ 1.0770e+00, -1.5176e+00,  2.1563e+00,  ...,  6.6221e-05,\n",
       "           -7.9036e-05,  1.0085e-04],\n",
       "          [ 1.3207e+00,  2.8033e+00, -6.8965e-03,  ...,  4.4525e-05,\n",
       "           -3.8980e-04, -9.7752e-06],\n",
       "          ...,\n",
       "          [-7.7166e-01, -1.3889e+00, -1.1308e+00,  ..., -3.0345e-04,\n",
       "           -4.0388e-04,  1.5777e-04],\n",
       "          [-1.4779e+00,  1.0353e+00, -1.1806e+00,  ...,  2.2092e-03,\n",
       "           -8.9729e-04, -1.0741e-04],\n",
       "          [ 6.5395e-01, -1.0552e+00,  5.2015e-01,  ...,  2.5329e-03,\n",
       "            8.5622e-05, -3.7789e-04]],\n",
       " \n",
       "         [[ 0.0000e+00,  0.0000e+00,  0.0000e+00,  ...,  0.0000e+00,\n",
       "            0.0000e+00,  0.0000e+00],\n",
       "          [-8.6212e-02, -2.0565e-01, -3.5193e-01,  ...,  9.6321e-05,\n",
       "           -8.3625e-05, -7.0810e-05],\n",
       "          [-1.1141e+00,  1.0347e-01, -9.8350e-01,  ..., -3.0665e-04,\n",
       "           -1.6451e-04,  4.6074e-04],\n",
       "          ...,\n",
       "          [ 1.1148e+00, -3.9041e-01,  8.8675e-01,  ..., -1.2338e-04,\n",
       "           -9.0778e-04, -8.2111e-04],\n",
       "          [ 5.1583e-01, -1.4066e+00,  2.9610e+00,  ..., -9.5534e-04,\n",
       "           -6.3139e-04,  5.7483e-04],\n",
       "          [-1.2492e+00, -1.5248e+00,  2.6940e+00,  ..., -1.0716e-03,\n",
       "           -3.4010e-04,  1.2938e-03]]]))"
      ]
     },
     "execution_count": 5,
     "metadata": {},
     "output_type": "execute_result"
    }
   ],
   "source": [
    "input_rope.shape, input_rope - input_x"
   ]
  },
  {
   "cell_type": "code",
   "execution_count": 11,
   "metadata": {},
   "outputs": [
    {
     "data": {
      "text/plain": [
       "(torch.Size([3, 8, 6, 64]), torch.Size([3, 8, 6, 64]))"
      ]
     },
     "execution_count": 11,
     "metadata": {},
     "output_type": "execute_result"
    }
   ],
   "source": [
    "torch.manual_seed(11)\n",
    "KEY = torch.randn(3, 8, 6, 64)\n",
    "VALUE = torch.randn(3, 8, 6, 64)\n",
    "KEY.shape, VALUE.shape"
   ]
  },
  {
   "cell_type": "code",
   "execution_count": 12,
   "metadata": {},
   "outputs": [
    {
     "data": {
      "text/plain": [
       "(torch.Size([64]), torch.Size([64]))"
      ]
     },
     "execution_count": 12,
     "metadata": {},
     "output_type": "execute_result"
    }
   ],
   "source": [
    "KEY[0][0][0].shape, VALUE[0][0][0].shape"
   ]
  }
 ],
 "metadata": {
  "kernelspec": {
   "display_name": ".venv",
   "language": "python",
   "name": "python3"
  },
  "language_info": {
   "codemirror_mode": {
    "name": "ipython",
    "version": 3
   },
   "file_extension": ".py",
   "mimetype": "text/x-python",
   "name": "python",
   "nbconvert_exporter": "python",
   "pygments_lexer": "ipython3",
   "version": "3.13.1"
  }
 },
 "nbformat": 4,
 "nbformat_minor": 2
}
